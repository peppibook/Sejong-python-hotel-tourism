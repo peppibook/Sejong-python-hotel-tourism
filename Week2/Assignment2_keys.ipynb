{
 "cells": [
  {
   "cell_type": "markdown",
   "metadata": {
    "scrolled": true
   },
   "source": [
    "Chapter 2\n",
    "Problem 1 : Write a program that uses input to prompt a user for their name and then welcomes them.\n"
   ]
  },
  {
   "cell_type": "code",
   "execution_count": null,
   "metadata": {},
   "outputs": [],
   "source": [
    "# Exercise 2\n",
    "name = input(\"Enter your name : \")\n",
    "print(\"Hello \"+ name)"
   ]
  },
  {
   "cell_type": "markdown",
   "metadata": {},
   "source": [
    "Problem 2 : Write a program to prompt the user for hours and rate per hour to compute gross pay\n",
    "\n",
    "Output :\n",
    "Enter Hours : 35\n",
    "Enter Rate : 8720\n",
    "Pay : 305200"
   ]
  },
  {
   "cell_type": "code",
   "execution_count": 4,
   "metadata": {
    "scrolled": false
   },
   "outputs": [
    {
     "name": "stdout",
     "output_type": "stream",
     "text": [
      "Enter Hours : 35\n",
      "Enter Rate : 8720\n",
      "Pay :  305200\n"
     ]
    }
   ],
   "source": [
    "#Exercise 3\n",
    "hours = input(\"Enter Hours : \")\n",
    "rate = input(\"Enter Rate : \")\n",
    "print(\"Pay : \",int(hours)*int(rate))"
   ]
  },
  {
   "cell_type": "markdown",
   "metadata": {},
   "source": [
    "Problem 3 : Assume that we execute the following assignment statements:\n",
    "width = 17\n",
    "height = 12.0\n",
    "\n",
    "For each of the following expressions, write the value of the expression and the type.\n",
    "\n",
    "width // 2\n",
    "width /2.0\n",
    "height /3\n",
    "1 + 2 * 5"
   ]
  },
  {
   "cell_type": "code",
   "execution_count": 9,
   "metadata": {
    "scrolled": false
   },
   "outputs": [
    {
     "name": "stdout",
     "output_type": "stream",
     "text": [
      "width//2 :  8\n",
      "Type is  <class 'int'>\n",
      "================\n",
      "width/2.0 :  8.5\n",
      "Type is  <class 'float'>\n",
      "================\n",
      "height/3 :  4.0\n",
      "Type is  <class 'float'>\n",
      "================\n",
      "1 + 2 * 5 :  11\n",
      "Type is  <class 'int'>\n",
      "================\n"
     ]
    }
   ],
   "source": [
    "#Exercise4\n",
    "width=17\n",
    "height=12.0\n",
    "a = width//2\n",
    "b = width/2.0\n",
    "c = height/3\n",
    "d = 1 + 2 * 5\n",
    "\n",
    "print(\"width//2 : \", a)\n",
    "print(\"Type is \",type(a))\n",
    "print('================')\n",
    "print(\"width/2.0 : \", b)\n",
    "print(\"Type is \",type(b))\n",
    "print('================')\n",
    "print(\"height/3 : \", c)\n",
    "print(\"Type is \",type(c))\n",
    "print('================')\n",
    "print(\"1 + 2 * 5 : \", d)\n",
    "print(\"Type is \",type(d))\n",
    "print('================')"
   ]
  },
  {
   "cell_type": "markdown",
   "metadata": {},
   "source": [
    "Problem 4 : Write a program which prompts the user for a Celsius temperature, convert the temperature to Fahrenheit, and print out the converted temperature."
   ]
  },
  {
   "cell_type": "code",
   "execution_count": 12,
   "metadata": {},
   "outputs": [
    {
     "name": "stdout",
     "output_type": "stream",
     "text": [
      "Enter a Celsius temperature : 30\n",
      "The converted Fahrenheit temperature :  86.0\n"
     ]
    }
   ],
   "source": [
    "#Exercise5\n",
    "celsius = input(\"Enter a Celsius temperature : \")\n",
    "fahrenheit = int(celsius)*9/5+32\n",
    "print(\"The converted Fahrenheit temperature : \", fahrenheit)"
   ]
  }
 ],
 "metadata": {
  "kernelspec": {
   "display_name": "Python 3",
   "language": "python",
   "name": "python3"
  },
  "language_info": {
   "codemirror_mode": {
    "name": "ipython",
    "version": 3
   },
   "file_extension": ".py",
   "mimetype": "text/x-python",
   "name": "python",
   "nbconvert_exporter": "python",
   "pygments_lexer": "ipython3",
   "version": "3.8.5"
  }
 },
 "nbformat": 4,
 "nbformat_minor": 4
}

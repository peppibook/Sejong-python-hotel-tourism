{
 "cells": [
  {
   "cell_type": "markdown",
   "metadata": {},
   "source": [
    "Problem 1 : Rewrite your pay computation with time-and-a-half for overtime and create a function called computepay which takes two parameters (hours and rate). \n",
    "\n",
    "Output :\n",
    "\n",
    "Enter Hours: 45\n",
    "\n",
    "Enter Rate: 10\n",
    "\n",
    "Pay: 475.0\n"
   ]
  },
  {
   "cell_type": "code",
   "execution_count": null,
   "metadata": {},
   "outputs": [],
   "source": [
    "# Chapter4- Problem 1\n",
    "\n",
    "def computepay(hours, rate):\n",
    "    pay = 0.0\n",
    "    if hours <= 40:\n",
    "        pay = hours * rate\n",
    "    else:\n",
    "        pay = (hours-40)*(rate*1.5) + 40*rate\n",
    "    return pay\n",
    "\n",
    "hours = input(\"Enter Hours : \")\n",
    "\n",
    "rate = input(\"Enter rate : \")\n",
    "\n",
    "computepay(int(hours), int(rate))\n"
   ]
  },
  {
   "cell_type": "markdown",
   "metadata": {},
   "source": [
    "Problem 2 : Rewrite the grade program from the previous chapter using a function called computegrade that takes a score as its parameter and returns a grade as a string.\n",
    "\n",
    "Score   Grade\n",
    ">= 0.9     A\n",
    ">= 0.8     B\n",
    ">= 0.7     C\n",
    ">= 0.6     D\n",
    " < 0.6     F \n",
    "\n",
    "Enter score: 0.95\n",
    "A \n",
    "\n",
    "Enter score: perfect\n",
    "Bad score \n",
    "\n",
    "Enter score: 10.0\n",
    "Bad score\n"
   ]
  },
  {
   "cell_type": "code",
   "execution_count": 4,
   "metadata": {},
   "outputs": [
    {
     "name": "stdout",
     "output_type": "stream",
     "text": [
      "Enter a score between 0.0 and 1.0 : perfect\n",
      "Bad score\n"
     ]
    }
   ],
   "source": [
    "# Chapter4 - Problem 2\n",
    "\n",
    "def computegrade(score):\n",
    "    try:\n",
    "        score = float(score)\n",
    "        if 0.9 <= score and score <= 1.0:\n",
    "            print(\"A\")\n",
    "        elif 0.8 <= score and score < 0.9:\n",
    "            print(\"B\")\n",
    "        elif 0.7 <= score and score < 0.8:\n",
    "            print(\"C\")\n",
    "        elif 0.6 <= score and score < 0.7:\n",
    "            print(\"C\")\n",
    "        elif 0.0<=score and score < 0.6:\n",
    "            print(\"F\")    \n",
    "        else:\n",
    "            print(\"Bad score\")\n",
    "    except:\n",
    "        print(\"Bad score\")\n",
    "\n",
    "score = input(\"Enter a score between 0.0 and 1.0 : \")\n",
    "\n",
    "computegrade(score)"
   ]
  },
  {
   "cell_type": "markdown",
   "metadata": {},
   "source": [
    "Problem 1 : Write a program which repeatedly reads numbers until the user enters \"done\". Once \"done\" is entered, print out the total, count, and average of the numbers. If the user enters anything other than a number, detect their mistake using try and except and print an error message and skip to the next number.\n",
    "\n",
    "Output :\n",
    "\n",
    "Enter a number: 4\n",
    "\n",
    "Enter a number: 5\n",
    "\n",
    "Enter a number: bad data\n",
    "\n",
    "Invalid input\n",
    "\n",
    "Enter a number: 7\n",
    "\n",
    "Enter a number: done\n",
    "\n",
    "16 3 5.333333333333333"
   ]
  },
  {
   "cell_type": "code",
   "execution_count": 13,
   "metadata": {
    "scrolled": true
   },
   "outputs": [
    {
     "name": "stdout",
     "output_type": "stream",
     "text": [
      "Enter a number : 4\n",
      "Enter a number : 5\n",
      "Enter a number : bad data\n",
      "Invalid input\n",
      "Enter a number : 7\n",
      "Enter a number : done\n",
      "Total :  16\n",
      "Count :  3\n",
      "Average of the numbers :  5.333333333333333\n"
     ]
    }
   ],
   "source": [
    "# Chapter5-Problem 1\n",
    "\n",
    "# We need while, break, continue, try-except..\n",
    "total = 0\n",
    "count = 0\n",
    "\n",
    "while True:\n",
    "    ini_val = input(\"Enter a number : \")\n",
    "    if ini_val == 'done':\n",
    "        break\n",
    "    try:\n",
    "        val = int(ini_val)\n",
    "    except:\n",
    "        print('Invalid input')\n",
    "        continue\n",
    "    total = total + val\n",
    "    count = count + 1\n",
    "\n",
    "print(\"Total : \", total)\n",
    "print(\"Count : \", count)\n",
    "print(\"Average of the numbers : \", total/count)"
   ]
  },
  {
   "cell_type": "markdown",
   "metadata": {},
   "source": [
    "Problem 2 : Write another program that prompts for a list of numbers as above and at the end prints out both the maximum and minimum of the numbers instead of the average.\n"
   ]
  },
  {
   "cell_type": "code",
   "execution_count": 5,
   "metadata": {},
   "outputs": [
    {
     "name": "stdout",
     "output_type": "stream",
     "text": [
      "Enter a number:40\n",
      "Enter a number:70\n",
      "Enter a number:50\n",
      "Enter a number:done\n",
      "40.0 70.0\n"
     ]
    }
   ],
   "source": [
    "count = 0\n",
    "\n",
    "while True:\n",
    "    str_val = input(\"Enter a number:\")\n",
    "    if str_val == 'done':\n",
    "        break\n",
    "    try:\n",
    "        val = float(str_val)\n",
    "    except:\n",
    "        print(\"Invalid input\")\n",
    "        continue\n",
    "\n",
    "    if count == 0:\n",
    "        min_val = val\n",
    "        max_val = val\n",
    "    elif val < min_val:\n",
    "        min_val = val\n",
    "    elif val > max_val:\n",
    "        max_val = val\n",
    "\n",
    "    count = count + 1\n",
    "\n",
    "\n",
    "print(min_val, max_val)"
   ]
  },
  {
   "cell_type": "markdown",
   "metadata": {},
   "source": [
    "Problem 1 : Take the following Python code that stores a string: \n",
    "\n",
    "str = 'X-DSPAM-Confidence:0.8475' \n",
    "\n",
    "Use find and string slicing to extract the portion of the string after the colon character and then use the float function to convert the extracted string into a floating point number."
   ]
  },
  {
   "cell_type": "code",
   "execution_count": 6,
   "metadata": {},
   "outputs": [
    {
     "name": "stdout",
     "output_type": "stream",
     "text": [
      "0.8475\n",
      "<class 'float'>\n"
     ]
    }
   ],
   "source": [
    "str = \"X-DSPAM-Confidence:0.8475\"\n",
    "col_index = str.find(\":\")\n",
    "num = float(str[col_index+1:])\n",
    "print(num)\n",
    "print(type(num))"
   ]
  }
 ],
 "metadata": {
  "kernelspec": {
   "display_name": "Python 3",
   "language": "python",
   "name": "python3"
  },
  "language_info": {
   "codemirror_mode": {
    "name": "ipython",
    "version": 3
   },
   "file_extension": ".py",
   "mimetype": "text/x-python",
   "name": "python",
   "nbconvert_exporter": "python",
   "pygments_lexer": "ipython3",
   "version": "3.8.5"
  }
 },
 "nbformat": 4,
 "nbformat_minor": 4
}

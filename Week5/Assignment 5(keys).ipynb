{
 "cells": [
  {
   "cell_type": "markdown",
   "metadata": {},
   "source": [
    "Problem 1 : Revise a previous program as follows: Read and parse the \"From\" lines and pull out the addresses from the line. Count the number of messages from each person using a dictionary.\n",
    "\n",
    "After all the data has been read, print the person with the most commits by creating a list of (count, email) tuples from the dictionary. Then sort the list in reverse order and print out the person who has the most commits.\n",
    "\n",
    "Enter a file name: mbox-short.txt\n",
    "cwen@iupui.edu 5\n",
    "\n",
    "Enter a file name: mbox.txt\n",
    "zqian@umich.edu 195"
   ]
  },
  {
   "cell_type": "code",
   "execution_count": null,
   "metadata": {},
   "outputs": [],
   "source": []
  },
  {
   "cell_type": "code",
   "execution_count": 5,
   "metadata": {},
   "outputs": [
    {
     "name": "stdout",
     "output_type": "stream",
     "text": [
      "Enter a file name:mbox.txt\n",
      "zqian@umich.edu 326\n"
     ]
    }
   ],
   "source": [
    "filename = input('Enter a file name:')\n",
    "fhand = open(filename, 'r')\n",
    "email_addresses = {} # Dictionary\n",
    "\n",
    "for line in fhand:\n",
    "    if line.startswith('From'):\n",
    "        email = line.split()[1]\n",
    "        email_addresses[email] = email_addresses.get(email, 0) + 1\n",
    "        \n",
    "lst = [] # Listd\n",
    "for key, value in email_addresses.items():\n",
    "    lst.append((value, key))\n",
    "    \n",
    "lst.sort(reverse=True)\n",
    "person_tuple = lst[0]\n",
    "\n",
    "#print(email_addresses)\n",
    "print(person_tuple[1], person_tuple[0])\n",
    "        "
   ]
  },
  {
   "cell_type": "markdown",
   "metadata": {},
   "source": [
    "Problem 2 : This program counts the distribution of the hour of the day for each of the messages. You can pull the hour from the \"From\" line by finding the time string and then splitting that string into parts using the colon character. Once you have accumulated the counts for each hour, print out the counts, one per line, sorted by hour as shown below. \n",
    "\n",
    "python timeofday.py\n",
    "Enter a file name: mbox-short.txt\n",
    "04 3\n",
    "06 1\n",
    "07 1\n",
    "09 2\n",
    "10 3\n",
    "11 6\n",
    "14 1\n",
    "15 2\n",
    "16 4\n",
    "17 2\n",
    "18 1\n",
    "19 1"
   ]
  },
  {
   "cell_type": "code",
   "execution_count": 2,
   "metadata": {},
   "outputs": [
    {
     "name": "stdout",
     "output_type": "stream",
     "text": [
      "Enter a file name: mbox-short.txt\n",
      "04 3\n",
      "06 1\n",
      "07 1\n",
      "09 2\n",
      "10 3\n",
      "11 6\n",
      "14 1\n",
      "15 2\n",
      "16 4\n",
      "17 2\n",
      "18 1\n",
      "19 1\n"
     ]
    }
   ],
   "source": [
    "filename2 = input('Enter a file name: ')\n",
    "fhand2 = open(filename2, 'r')\n",
    "hours_of_day = {} # Dictionary\n",
    "\n",
    "for line in fhand2:\n",
    "    if line.startswith('From '):\n",
    "        time = line.split()[5]\n",
    "        hour = time.split(\":\")[0]\n",
    "        hours_of_day[hour] = hours_of_day.get(hour, 0) + 1\n",
    "    \n",
    "lst = list(hours_of_day.items())\n",
    "lst.sort() #reverse = True)\n",
    "\n",
    "for t in lst:\n",
    "    print(t[0], t[1])"
   ]
  },
  {
   "cell_type": "markdown",
   "metadata": {},
   "source": [
    "Exercise 3: Write a program that reads a file and prints the letters in decreasing order of frequency. Your program should convert all the input to lower case and only count the letters a-z. Your program should not count spaces, digits, punctuation, or anything other than the letters a-z. Find text samples from several different languages and see how letter frequency varies between languages. Compare your results with the tables at https://wikipedia.org/wiki/Letter_frequencies."
   ]
  },
  {
   "cell_type": "code",
   "execution_count": 1,
   "metadata": {},
   "outputs": [
    {
     "name": "stdout",
     "output_type": "stream",
     "text": [
      "Enter a file name: mbox-short.txt\n",
      "e 5436\n",
      "a 5223\n",
      "i 4494\n",
      "o 4174\n",
      "r 4064\n",
      "t 4050\n",
      "s 3738\n",
      "u 3123\n",
      "c 3088\n",
      "n 2575\n",
      "p 2497\n",
      "m 2436\n",
      "d 2004\n",
      "l 1832\n",
      "h 1392\n",
      "f 1257\n",
      "k 1167\n",
      "b 1134\n",
      "g 1027\n",
      "v 997\n",
      "j 959\n",
      "y 643\n",
      "w 586\n",
      "x 482\n",
      "z 78\n",
      "q 57\n"
     ]
    }
   ],
   "source": [
    "alphabet = 'abcdefghijklmnopqrstuvxwyz'\n",
    "\n",
    "filename3 = input('Enter a file name: ')\n",
    "fhand3 = open(filename3, 'r')\n",
    "text = fhand3.read()\n",
    "\n",
    "freq_dict = {}\n",
    "for ch in text.lower():\n",
    "    if ch in alphabet:\n",
    "        freq_dict[ch] = freq_dict.get(ch, 0) + 1\n",
    "        \n",
    "lst = []\n",
    "for key, value in freq_dict.items():\n",
    "    lst.append((value, key))\n",
    "    \n",
    "lst.sort(reverse=True)\n",
    "for freq, letter in lst:\n",
    "    print(letter, freq)"
   ]
  },
  {
   "cell_type": "markdown",
   "metadata": {},
   "source": [
    "Problem 1 : Write a program to look for lines of the form: New Revision: 39772 Extract the number from each of the lines using a regular expression and the findall() method. Compute the average of the numbers and print out the average. \n",
    "\n",
    "Output \n",
    "———————————\n",
    "Enter file:mbox.txt\n",
    "38444.0323119"
   ]
  },
  {
   "cell_type": "code",
   "execution_count": 35,
   "metadata": {},
   "outputs": [
    {
     "name": "stdout",
     "output_type": "stream",
     "text": [
      "Enter a file name: mbox.txt\n",
      "38702.50094280327\n"
     ]
    }
   ],
   "source": [
    "import re # Regular Expressions\n",
    "\n",
    "filename5 = input('Enter a file name: ')\n",
    "fhand5 = open(filename5)\n",
    "\n",
    "nums = [] # List of numbers\n",
    "\n",
    "for line in fhand5:\n",
    "    line = line.rstrip()\n",
    "    #New\\SRevision: \n",
    "    x = re.findall('^New .*: ([0-9.]+)', line)\n",
    "    if len(x) > 0: # x is a list\n",
    "        #print(type(x))\n",
    "        nums.append(int(x[0]))\n",
    "        \n",
    "print(sum(nums)/len(nums))        "
   ]
  },
  {
   "cell_type": "code",
   "execution_count": null,
   "metadata": {},
   "outputs": [],
   "source": []
  }
 ],
 "metadata": {
  "kernelspec": {
   "display_name": "Python 3",
   "language": "python",
   "name": "python3"
  },
  "language_info": {
   "codemirror_mode": {
    "name": "ipython",
    "version": 3
   },
   "file_extension": ".py",
   "mimetype": "text/x-python",
   "name": "python",
   "nbconvert_exporter": "python",
   "pygments_lexer": "ipython3",
   "version": "3.8.5"
  }
 },
 "nbformat": 4,
 "nbformat_minor": 4
}

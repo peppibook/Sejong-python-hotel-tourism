{
 "cells": [
  {
   "cell_type": "markdown",
   "metadata": {},
   "source": [
    "Problem 1 : Revise a previous program as follows: Read and parse the \"From\" lines and pull out the addresses from the line. Count the number of messages from each person using a dictionary.\n",
    "\n",
    "After all the data has been read, print the person with the most commits by creating a list of (count, email) tuples from the dictionary. Then sort the list in reverse order and print out the person who has the most commits.\n",
    "\n",
    "Enter a file name: mbox-short.txt\n",
    "cwen@iupui.edu 5\n",
    "\n",
    "Enter a file name: mbox.txt\n",
    "zqian@umich.edu 195\n"
   ]
  },
  {
   "cell_type": "code",
   "execution_count": 2,
   "metadata": {},
   "outputs": [
    {
     "name": "stdout",
     "output_type": "stream",
     "text": [
      "Enter a file name: mbox-short.txt\n",
      "cwen@iupui.edu 10\n"
     ]
    }
   ],
   "source": [
    "filename1 = input('Enter a file name: ')\n",
    "fhand1 = open(filename1)\n",
    "\n",
    "email_addresses = {} # Dictionary\n",
    "\n",
    "for line in fhand1:\n",
    "    line = line.rstrip()\n",
    "    if line.startswith('From'):\n",
    "        # Split each word by space\n",
    "        email = line.split()[1]\n",
    "        email_addresses[email] = email_addresses.get(email, 0) + 1\n",
    "\n",
    "lst = [] # list\n",
    "for key, value in email_addresses.items():\n",
    "    lst.append((value, key))\n",
    "lst.sort(reverse=True) # reverse order    \n",
    "\n",
    "person_tuple = lst[0] # call the first elment , but type of elment is tuple\n",
    "print(person_tuple[1], person_tuple[0])"
   ]
  },
  {
   "cell_type": "markdown",
   "metadata": {},
   "source": [
    "Problem 2 : This program counts the distribution of the hour of the day for each of the messages. You can pull the hour from the \"From\" line by finding the time string and then splitting that string into parts using the colon character. Once you have accumulated the counts for each hour, print out the counts, one per line, sorted by hour as shown below. \n",
    "\n",
    "python timeofday.py\n",
    "Enter a file name: mbox-short.txt\n",
    "04 3\n",
    "06 1\n",
    "07 1\n",
    "09 2\n",
    "10 3\n",
    "11 6\n",
    "14 1\n",
    "15 2\n",
    "16 4\n",
    "17 2\n",
    "18 1\n",
    "19 1"
   ]
  },
  {
   "cell_type": "code",
   "execution_count": 9,
   "metadata": {
    "scrolled": true
   },
   "outputs": [
    {
     "name": "stdout",
     "output_type": "stream",
     "text": [
      "Enter a file name: mbox-short.txt\n",
      "From antranig@caret.cam.ac.uk Fri Jan  4 10 1\n",
      "From cwen@iupui.edu Fri Jan  4 11 2\n",
      "From cwen@iupui.edu Thu Jan  3 16 3\n",
      "From david.horwitz@uct.ac.za Fri Jan  4 04 2\n",
      "From david.horwitz@uct.ac.za Fri Jan  4 06 1\n",
      "From david.horwitz@uct.ac.za Fri Jan  4 07 1\n",
      "From gopal.ramasammycook@gmail.com Fri Jan  4 09 1\n",
      "From gsilver@umich.edu Fri Jan  4 11 3\n",
      "From louis@media.berkeley.edu Fri Jan  4 18 1\n",
      "From louis@media.berkeley.edu Thu Jan  3 17 1\n",
      "From louis@media.berkeley.edu Thu Jan  3 19 1\n",
      "From ray@media.berkeley.edu Thu Jan  3 17 1\n",
      "From rjlowe@iupui.edu Fri Jan  4 14 1\n",
      "From rjlowe@iupui.edu Fri Jan  4 15 1\n",
      "From stephen.marquard@uct.ac.za Fri Jan  4 04 1\n",
      "From stephen.marquard@uct.ac.za Sat Jan  5 09 1\n",
      "From wagnermr@iupui.edu Fri Jan  4 10 1\n",
      "From zqian@umich.edu Fri Jan  4 10 1\n",
      "From zqian@umich.edu Fri Jan  4 11 1\n",
      "From zqian@umich.edu Fri Jan  4 15 1\n",
      "From zqian@umich.edu Fri Jan  4 16 1\n"
     ]
    }
   ],
   "source": [
    "filename2 = input('Enter a file name: ')\n",
    "fhand2 = open(filename2)\n",
    "\n",
    "hours_of_day = {} # Dictionary\n",
    "\n",
    "for line in fhand2:\n",
    "    line = line.rstrip() \n",
    "    if line.startswith('From '):\n",
    "        #print(line.split()[5])\n",
    "        # Split each word by space\n",
    "        time = line.split()[5]\n",
    "        hour = line.split(':')[0]\n",
    "        hours_of_day[hour] = hours_of_day.get(hour, 0) + 1\n",
    "\n",
    "#hours_of_day.sort() # sort by hour \n",
    "\n",
    "lst = list(hours_of_day.items()) # List\n",
    "lst.sort()\n",
    "\n",
    "for t in lst:\n",
    "    print(t[0], t[1])"
   ]
  },
  {
   "cell_type": "markdown",
   "metadata": {},
   "source": [
    "Exercise 3: Write a program that reads a file and prints the letters in decreasing order of frequency. Your program should convert all the input to lower case and only count the letters a-z. Your program should not count spaces, digits, punctuation, or anything other than the letters a-z. Find text samples from several different languages and see how letter frequency varies between languages. Compare your results with the tables at https://wikipedia.org/wiki/Letter_frequencies."
   ]
  },
  {
   "cell_type": "code",
   "execution_count": 10,
   "metadata": {},
   "outputs": [
    {
     "name": "stdout",
     "output_type": "stream",
     "text": [
      "Enter a filne name: mbox-short.txt\n",
      "e 5436\n",
      "a 5223\n",
      "i 4494\n",
      "o 4174\n",
      "r 4064\n",
      "t 4050\n",
      "s 3738\n",
      "u 3123\n",
      "c 3088\n",
      "n 2575\n",
      "p 2497\n",
      "m 2436\n",
      "d 2004\n",
      "l 1832\n",
      "h 1392\n",
      "f 1257\n",
      "k 1167\n",
      "b 1134\n",
      "g 1027\n",
      "v 997\n",
      "j 959\n",
      "y 643\n",
      "w 586\n",
      "x 482\n",
      "z 78\n",
      "q 57\n"
     ]
    }
   ],
   "source": [
    "filename3 = input('Enter a filne name: ')\n",
    "fhand3 = open(filename3)\n",
    "\n",
    "text = fhand3.read()\n",
    "\n",
    "freq_dict = {} # Dictionary\n",
    "\n",
    "alphabet = 'abcdefghijklmnopqrstuvwxyz'\n",
    "\n",
    "for ch in text.lower():\n",
    "    if ch in alphabet:\n",
    "        freq_dict[ch] = freq_dict.get(ch, 0) + 1\n",
    "        \n",
    "lst = [] # list        \n",
    "for key, value in freq_dict.items():\n",
    "    lst.append((value, key))\n",
    "    \n",
    "lst.sort(reverse=True) # decreasing order\n",
    "for freq, letter in lst:\n",
    "    print(letter, freq)"
   ]
  }
 ],
 "metadata": {
  "kernelspec": {
   "display_name": "Python 3",
   "language": "python",
   "name": "python3"
  },
  "language_info": {
   "codemirror_mode": {
    "name": "ipython",
    "version": 3
   },
   "file_extension": ".py",
   "mimetype": "text/x-python",
   "name": "python",
   "nbconvert_exporter": "python",
   "pygments_lexer": "ipython3",
   "version": "3.8.5"
  }
 },
 "nbformat": 4,
 "nbformat_minor": 4
}
